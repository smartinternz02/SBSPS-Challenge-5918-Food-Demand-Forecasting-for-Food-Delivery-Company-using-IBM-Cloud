{
 "cells": [
  {
   "cell_type": "code",
   "execution_count": 1,
   "id": "39d44226",
   "metadata": {},
   "outputs": [],
   "source": [
    "#import necessary padkages\n",
    "import pandas as pd\n",
    "import numpy as np\n",
    "import pickle\n",
    "import os\n",
    "from flask import Flask,request,render_template"
   ]
  },
  {
   "cell_type": "code",
   "execution_count": null,
   "id": "e50f3535",
   "metadata": {
    "scrolled": true
   },
   "outputs": [
    {
     "name": "stdout",
     "output_type": "stream",
     "text": [
      " * Serving Flask app \"__main__\" (lazy loading)\n",
      " * Environment: production\n",
      "\u001b[31m   WARNING: This is a development server. Do not use it in a production deployment.\u001b[0m\n",
      "\u001b[2m   Use a production WSGI server instead.\u001b[0m\n",
      " * Debug mode: off\n"
     ]
    },
    {
     "name": "stderr",
     "output_type": "stream",
     "text": [
      " * Running on all addresses.\n",
      "   WARNING: This is a development server. Do not use it in a production deployment.\n",
      " * Running on http://192.168.0.112:8000/ (Press CTRL+C to quit)\n",
      "192.168.0.112 - - [29/Dec/2021 23:17:12] \"GET /home HTTP/1.1\" 200 -\n",
      "192.168.0.112 - - [29/Dec/2021 23:17:21] \"GET /pred HTTP/1.1\" 200 -\n",
      "192.168.0.112 - - [29/Dec/2021 23:17:36] \"GET /home HTTP/1.1\" 200 -\n",
      "192.168.0.112 - - [29/Dec/2021 23:17:47] \"GET /pred HTTP/1.1\" 200 -\n",
      "192.168.0.112 - - [29/Dec/2021 23:17:49] \"GET /home HTTP/1.1\" 200 -\n",
      "192.168.0.112 - - [29/Dec/2021 23:17:56] \"GET /home HTTP/1.1\" 200 -\n",
      "192.168.0.112 - - [29/Dec/2021 23:19:46] \"GET /pred HTTP/1.1\" 200 -\n"
     ]
    },
    {
     "name": "stdout",
     "output_type": "stream",
     "text": [
      "[INFO] loading model...\n"
     ]
    },
    {
     "name": "stderr",
     "output_type": "stream",
     "text": [
      "192.168.0.112 - - [29/Dec/2021 23:20:12] \"POST /predict HTTP/1.1\" 200 -\n"
     ]
    },
    {
     "name": "stdout",
     "output_type": "stream",
     "text": [
      "[array([  0.,   0.,   2.,   0., 647.,  56.,   0.])]\n",
      "108.98039215686275\n"
     ]
    }
   ],
   "source": [
    "#Creating our flask app and loading the model\n",
    "app = Flask(__name__,template_folder=\"templates\")\n",
    "@app.route('/', methods=['GET'])\n",
    "def index():\n",
    "    return render_template('home.html')\n",
    "@app.route('/home', methods=['GET'])\n",
    "def about():\n",
    "    return render_template('home.html')\n",
    "@app.route('/pred', methods=['GET'])\n",
    "def page():\n",
    "    return render_template('upload.html')\n",
    "@app.route('/predict', methods=['GET', 'POST'])\n",
    "def predict():\n",
    "    print(\"[INFO] loading model...\")\n",
    "    model = pickle.loads(open('fdemand.pkl', 'rb').read())\n",
    "    input_features = [float(x) for x in request.form.values()]\n",
    "    features_value = [np.array(input_features)]\n",
    "    print(features_value)\n",
    "    \n",
    "    features_name = ['homepage_featured', 'emailer_for_promotion', 'op_area', 'cuisine',\n",
    "       'city_code', 'region_code', 'category']\n",
    "    prediction = model.predict(features_value)\n",
    "    output = prediction[0]\n",
    "    print(output)\n",
    "    return render_template('upload.html', prediction_text = round(output,2))\n",
    "    #return render_template('result.html', prediction_text = output)\n",
    "\n",
    "if __name__ == '__main__':\n",
    "    app.run(host='0.0.0.0', port=8000, debug=False)"
   ]
  },
  {
   "cell_type": "code",
   "execution_count": null,
   "id": "a85e9dc0",
   "metadata": {},
   "outputs": [],
   "source": []
  }
 ],
 "metadata": {
  "kernelspec": {
   "display_name": "Python 3 (ipykernel)",
   "language": "python",
   "name": "python3"
  },
  "language_info": {
   "codemirror_mode": {
    "name": "ipython",
    "version": 3
   },
   "file_extension": ".py",
   "mimetype": "text/x-python",
   "name": "python",
   "nbconvert_exporter": "python",
   "pygments_lexer": "ipython3",
   "version": "3.9.7"
  }
 },
 "nbformat": 4,
 "nbformat_minor": 5
}
